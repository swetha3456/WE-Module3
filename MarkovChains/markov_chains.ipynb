{
  "nbformat": 4,
  "nbformat_minor": 0,
  "metadata": {
    "colab": {
      "provenance": []
    },
    "kernelspec": {
      "name": "python3",
      "display_name": "Python 3"
    },
    "language_info": {
      "name": "python"
    }
  },
  "cells": [
    {
      "cell_type": "code",
      "execution_count": null,
      "metadata": {
        "id": "IauEVQuzvo1A"
      },
      "outputs": [],
      "source": [
        "import random\n",
        "\n",
        "def generate(filename: str, start_words: list, chain_length: int, num_generated: int):\n",
        "  \"\"\"\n",
        "  This function generates a sentence of specified length based on a Markov chain model.\n",
        "\n",
        "  Args:\n",
        "      filename: The name of the file containing the text to train on.\n",
        "      start_words: A list of words to start the sentence with (must be same length as chain_length).\n",
        "      chain_length: The number of words to consider when predicting the next word.\n",
        "      num_generated: The desired length of the generated sentence.\n",
        "\n",
        "  Returns:\n",
        "      A sentence (string) of the specified length.\n",
        "  \"\"\"\n",
        "\n",
        "  # 1. Read the text from the file\n",
        "  with open(filename, 'r') as f:\n",
        "    text = f.read()\n",
        "\n",
        "  # 2. Split the text into words\n",
        "  words = text.split()\n",
        "\n",
        "  # 3. Build the Markov chain dictionary\n",
        "  word_dict = {}\n",
        "  for i in range(len(words) - chain_length):\n",
        "    current_words = tuple(words[i:i+chain_length])\n",
        "    next_word = words[i + chain_length]\n",
        "    if current_words in word_dict:\n",
        "      word_dict[current_words].append(next_word)\n",
        "    else:\n",
        "      word_dict[current_words] = [next_word]\n",
        "\n",
        "  # 4. Generate the sentence\n",
        "  sentence = start_words.copy()\n",
        "  for i in range(num_generated - chain_length):\n",
        "    current_words = tuple(sentence[-chain_length:])\n",
        "    if current_words in word_dict:\n",
        "      next_word = random.choice(word_dict[current_words])\n",
        "      sentence.append(next_word)\n",
        "    else:\n",
        "      # Handle cases where the current sequence is not found\n",
        "      sentence.append(\"<s>\")  # Add a special \"start\" token\n",
        "\n",
        "  return \" \".join(sentence)\n",
        "\n",
        "# User Input Section\n",
        "filename = input(\"Enter the name of the text file: \")\n",
        "chain_length = int(input(\"Enter the chain length: \"))\n",
        "num_generated = int(input(\"Enter the desired sentence length: \"))\n",
        "\n",
        "# Generate as many starting words as the chain length\n",
        "start_words = []\n",
        "for i in range(chain_length):\n",
        "    word = input(f\"Enter starting word {i+1}: \")\n",
        "    start_words.append(word)\n",
        "\n",
        "# Generate the sentence\n",
        "sentence = generate(filename, start_words, chain_length, num_generated)\n",
        "print(\"Generated sentence:\", sentence)\n"
      ]
    }
  ]
}