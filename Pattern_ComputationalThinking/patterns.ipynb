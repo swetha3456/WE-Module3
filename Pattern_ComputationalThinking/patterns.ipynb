{
  "nbformat": 4,
  "nbformat_minor": 0,
  "metadata": {
    "colab": {
      "provenance": []
    },
    "kernelspec": {
      "name": "python3",
      "display_name": "Python 3"
    },
    "language_info": {
      "name": "python"
    }
  },
  "cells": [
    {
      "cell_type": "code",
      "execution_count": null,
      "metadata": {
        "id": "fMF7aPJd-Wzk"
      },
      "outputs": [],
      "source": [
        "BORDER_SYMBOL = \"@\"\n",
        "\n",
        "def calculate_max_length(num_lines, increment, start, border_symbol):\n",
        "  border_length = len(border_symbol) * 2 if border_symbol else 0\n",
        "  return (num_lines - 1) * increment + start * 2 + border_length\n",
        "\n",
        "def create_border(border_symbol, num_symbols):\n",
        "  return border_symbol * num_symbols if border_symbol else \"\""
      ]
    },
    {
      "cell_type": "code",
      "source": [
        "def assemble_pattern(pattern, border_symbol, center, max_length):\n",
        "  if center:\n",
        "    return pattern.center(max_length)\n",
        "  else:\n",
        "    if border_symbol:\n",
        "      return pattern + create_border(border_symbol, max_length - len(pattern))\n",
        "    else:\n",
        "      return pattern"
      ],
      "metadata": {
        "id": "NLCM61bSAKpc"
      },
      "execution_count": null,
      "outputs": []
    },
    {
      "cell_type": "code",
      "source": [
        "def print_pattern(pattern_symbol, border_symbol=BORDER_SYMBOL, num_lines=1, increment=1, start=1, center=False, shape=\"pyramid\"):\n",
        "  if shape == \"pyramid\":\n",
        "    pattern = create_pyramid(pattern_symbol, num_lines)\n",
        "  elif shape == \"inverted_pyramid\":\n",
        "    pattern = create_inverted_pyramid(pattern_symbol, num_lines)\n",
        "  elif shape == \"diamond\":\n",
        "    pattern = create_diamond(pattern_symbol, num_lines)\n",
        "  elif shape == \"hourglass\":\n",
        "    pattern = create_hourglass(pattern_symbol, num_lines)\n",
        "  else:\n",
        "    raise ValueError(\"Invalid shape provided. Choose from 'pyramid', 'inverted_pyramid', 'diamond', or 'hourglass'.\")\n",
        "\n",
        "  max_length = calculate_max_length(num_lines, increment, start, border_symbol)\n",
        "  final_pattern = assemble_pattern(pattern, border_symbol, center, max_length)\n",
        "  print(final_pattern)"
      ],
      "metadata": {
        "id": "sGU9fweLAPqN"
      },
      "execution_count": null,
      "outputs": []
    },
    {
      "cell_type": "code",
      "source": [
        "def create_pyramid(pattern_symbol, num_symbols):\n",
        "  offset = num_symbols // 2  # Adjust offset calculation for odd number of lines\n",
        "  return pattern_symbol * (num_symbols - offset)\n",
        "\n",
        "def create_inverted_pyramid(pattern_symbol, num_symbols):\n",
        "  offset = (num_symbols - 1) // 2\n",
        "  return pattern_symbol * (num_symbols - offset)[::-1]\n",
        "\n",
        "def create_diamond(pattern_symbol, num_lines):\n",
        "  midpoint = num_lines // 2\n",
        "  first_half = [create_pyramid(pattern_symbol, i + 1) for i in range(midpoint)]\n",
        "  second_half = [create_inverted_pyramid(pattern_symbol, num_lines - i) for i in range(1, midpoint + 1)]\n",
        "  return \"\\n\".join(first_half + second_half)\n",
        "\n",
        "def create_hourglass(pattern_symbol, num_lines):\n",
        "  midpoint = num_lines // 2\n",
        "  first_half = [create_pyramid(pattern_symbol, i + 1) for i in range(midpoint)]\n",
        "  second_half = [create_inverted_pyramid(pattern_symbol, num_lines - i) for i in range(1, midpoint + 1)]\n",
        "  return \"\\n\".join(first_half + second_half[::-1])  # Reverse second half for hourglass"
      ],
      "metadata": {
        "id": "OdoHPKODAQxL"
      },
      "execution_count": null,
      "outputs": []
    },
    {
      "cell_type": "code",
      "source": [
        "print_pattern(\"*\", num_lines=5, center=True)"
      ],
      "metadata": {
        "colab": {
          "base_uri": "https://localhost:8080/"
        },
        "id": "y9w-beYJAtAx",
        "outputId": "aae9075c-63d9-4002-aca7-dd0252368ed1"
      },
      "execution_count": null,
      "outputs": [
        {
          "output_type": "stream",
          "name": "stdout",
          "text": [
            "  ***   \n"
          ]
        }
      ]
    }
  ]
}